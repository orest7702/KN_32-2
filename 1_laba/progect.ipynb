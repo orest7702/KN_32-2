{
 "cells": [
  {
   "cell_type": "code",
   "execution_count": 19,
   "id": "e0c83525",
   "metadata": {},
   "outputs": [
    {
     "name": "stdout",
     "output_type": "stream",
     "text": [
      "Orest start programming at 2025-09-10 21:40:12.435708. Lviv is the best city!\n"
     ]
    }
   ],
   "source": [
    "from datetime import datetime\n",
    "name = \"Orest\"\n",
    "location = \"Lviv\"\n",
    "\n",
    "print(f\"{name} start programming at {datetime.now()}. {location} is the best city!\")"
   ]
  },
  {
   "cell_type": "markdown",
   "id": "efa66239",
   "metadata": {},
   "source": [
    "#### у першому рядку я імпортую бібліотеку\n",
    "#### у другуму і третьому рядках я присвоюю змінним їх значення \n",
    "#### а в пятому рядку програма виводить дані в тому числі точний час"
   ]
  }
 ],
 "metadata": {
  "kernelspec": {
   "display_name": "Python 3",
   "language": "python",
   "name": "python3"
  },
  "language_info": {
   "codemirror_mode": {
    "name": "ipython",
    "version": 3
   },
   "file_extension": ".py",
   "mimetype": "text/x-python",
   "name": "python",
   "nbconvert_exporter": "python",
   "pygments_lexer": "ipython3",
   "version": "3.13.7"
  }
 },
 "nbformat": 4,
 "nbformat_minor": 5
}
