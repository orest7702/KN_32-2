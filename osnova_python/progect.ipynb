{
 "cells": [
  {
   "cell_type": "code",
   "execution_count": null,
   "id": "366785ce",
   "metadata": {},
   "outputs": [],
   "source": [
    "a = \"а,Б,В,Г,Д,\"\n",
    "b = 1234567890\n",
    "c = 1.2345\n",
    "d = [1, 2, 3, 4, 5]\n",
    "e = (1, 2, 3, 4, 5)\n",
    "f = {\"one\": 1, \"two\": 2, \"three\": 3}\n",
    "g = {1, 2, 3, 4, 5}\n"
   ]
  },
  {
   "cell_type": "code",
   "execution_count": 5,
   "id": "164c2218",
   "metadata": {},
   "outputs": [
    {
     "name": "stdout",
     "output_type": "stream",
     "text": [
      "a: <class 'str'>\n",
      "b: <class 'int'>\n",
      "c: <class 'float'>\n",
      "d: <class 'list'>\n",
      "e: <class 'tuple'>\n",
      "f: <class 'dict'>\n",
      "g: <class 'set'>\n"
     ]
    }
   ],
   "source": [
    "print(\"a:\", type(a))\n",
    "print(\"b:\", type(b))\n",
    "print(\"c:\", type(c))\n",
    "print(\"d:\", type(d))\n",
    "print(\"e:\", type(e))\n",
    "print(\"f:\", type(f))\n",
    "print(\"g:\", type(g))"
   ]
  },
  {
   "cell_type": "markdown",
   "id": "86d984fa",
   "metadata": {},
   "source": [
    "Виводимо стандартні константи Python."
   ]
  },
  {
   "cell_type": "code",
   "execution_count": null,
   "id": "dff267f1",
   "metadata": {},
   "outputs": [],
   "source": [
    "print(\"Константа True:\", True)\n",
    "print(\"Константа False:\", False)\n",
    "print(\"Константа None:\", None)"
   ]
  },
  {
   "cell_type": "markdown",
   "id": "d9097f1d",
   "metadata": {},
   "source": [
    "abs() – модуль числа.\n",
    "\n",
    "round() – округлення дробового числа.\n",
    "\n",
    "len() – довжина рядка або колекції."
   ]
  },
  {
   "cell_type": "code",
   "execution_count": null,
   "id": "d969ba56",
   "metadata": {},
   "outputs": [],
   "source": [
    "print(\"\\nВбудовані функції:\")\n",
    "print(\"abs(-b):\", abs(-b))\n",
    "print(\"round(c, 2):\", round(c, 2))\n",
    "print(\"len(a):\", len(a))"
   ]
  },
  {
   "cell_type": "markdown",
   "id": "5d3623ca",
   "metadata": {},
   "source": [
    "Проходимо по списку d і виводимо індекси та значення елементів."
   ]
  },
  {
   "cell_type": "code",
   "execution_count": null,
   "id": "4ac228f8",
   "metadata": {},
   "outputs": [],
   "source": [
    "print(\"\\nЦикл for по списку d:\")\n",
    "for i, val in enumerate(d):\n",
    "    print(f\"Елемент {i} списку d: {val}\")"
   ]
  },
  {
   "cell_type": "markdown",
   "id": "aca07960",
   "metadata": {},
   "source": [
    "Цикл while виконується доти, поки умова істинна."
   ]
  },
  {
   "cell_type": "code",
   "execution_count": null,
   "id": "9c8192c8",
   "metadata": {},
   "outputs": [],
   "source": [
    "print(\"\\nЦикл while:\")\n",
    "count = 0\n",
    "while count < 3:\n",
    "    print(f\"count = {count}\")\n",
    "    count += 1"
   ]
  },
  {
   "cell_type": "markdown",
   "id": "b40039d2",
   "metadata": {},
   "source": [
    "Показано стандартне розгалуження і тернарний оператор."
   ]
  },
  {
   "cell_type": "code",
   "execution_count": null,
   "id": "27361297",
   "metadata": {},
   "outputs": [],
   "source": [
    "print(\"\\nРозгалуження if/else:\")\n",
    "if b > 1000:\n",
    "    print(\"b більше 1000\")\n",
    "else:\n",
    "    print(\"b менше або рівне 1000\")\n",
    "\n",
    "print(\"c < 2\" if c < 2 else \"c >= 2\")"
   ]
  },
  {
   "cell_type": "markdown",
   "id": "1a9d78e4",
   "metadata": {},
   "source": [
    "Демонструє обробку помилок."
   ]
  },
  {
   "cell_type": "code",
   "execution_count": null,
   "id": "1e112952",
   "metadata": {},
   "outputs": [],
   "source": [
    "print(\"\\nОбробка помилок:\")\n",
    "try:\n",
    "    result = d[10]\n",
    "except IndexError as e:\n",
    "    print(\"Виловлена помилка:\", e)\n",
    "finally:\n",
    "    print(\"Блок finally завжди виконується\")"
   ]
  },
  {
   "cell_type": "markdown",
   "id": "9306367f",
   "metadata": {},
   "source": [
    "Контекст-менеджер автоматично відкриває і закриває файл."
   ]
  },
  {
   "cell_type": "code",
   "execution_count": null,
   "id": "e39f5ad6",
   "metadata": {},
   "outputs": [],
   "source": [
    "print(\"\\nКонтекст-менеджер with:\")\n",
    "with open(\"demo2.txt\", \"w\") as f:\n",
    "    f.write(\"Тестовий файл для демонстрації.\\n\")\n",
    "with open(\"demo2.txt\", \"r\") as f:\n",
    "    for line in f:\n",
    "        print(\"Зчитано з файлу:\", line.strip())"
   ]
  },
  {
   "cell_type": "markdown",
   "id": "58a4a42e",
   "metadata": {},
   "source": [
    "Lambda-функції — це короткі анонімні функції, які зручно використовувати для швидких обчислень або як аргументи інших функцій."
   ]
  },
  {
   "cell_type": "code",
   "execution_count": null,
   "id": "87345737",
   "metadata": {},
   "outputs": [],
   "source": [
    "print(\"\\nLambda приклади:\")\n",
    "square = lambda x: x**2\n",
    "print(\"Квадрат числа 5:\", square(5))\n",
    "\n",
    "greet = lambda name: f\"Привіт, {name}!\"\n",
    "print(\"Привітання:\", greet(\"Олександр\"))\n",
    "\n",
    "full_name = lambda first, last: f'Цей код написав: {first} {last}'\n",
    "print(\"Виклик lambda:\", full_name('Орест', 'Михайлів'))\n"
   ]
  }
 ],
 "metadata": {
  "kernelspec": {
   "display_name": "Python 3",
   "language": "python",
   "name": "python3"
  },
  "language_info": {
   "codemirror_mode": {
    "name": "ipython",
    "version": 3
   },
   "file_extension": ".py",
   "mimetype": "text/x-python",
   "name": "python",
   "nbconvert_exporter": "python",
   "pygments_lexer": "ipython3",
   "version": "3.13.7"
  }
 },
 "nbformat": 4,
 "nbformat_minor": 5
}
